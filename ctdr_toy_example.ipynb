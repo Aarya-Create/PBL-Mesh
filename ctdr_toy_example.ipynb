{
  "nbformat": 4,
  "nbformat_minor": 0,
  "metadata": {
    "colab": {
      "name": "ctdr_toy_example",
      "provenance": [],
      "collapsed_sections": [],
      "authorship_tag": "ABX9TyOCTdrERJeEBOiPoMlIslz/",
      "include_colab_link": true
    },
    "kernelspec": {
      "name": "python3",
      "display_name": "Python 3"
    },
    "accelerator": "GPU"
  },
  "cells": [
    {
      "cell_type": "markdown",
      "metadata": {
        "id": "view-in-github",
        "colab_type": "text"
      },
      "source": [
        "<a href=\"https://colab.research.google.com/github/jakeoung/ShapeFromProjections/blob/master/ctdr_toy_example.ipynb\" target=\"_parent\"><img src=\"https://colab.research.google.com/assets/colab-badge.svg\" alt=\"Open In Colab\"/></a>"
      ]
    },
    {
      "cell_type": "code",
      "metadata": {
        "id": "-yrnJoRtWUga",
        "colab_type": "code",
        "colab": {
          "base_uri": "https://localhost:8080/",
          "height": 377
        },
        "outputId": "877bc4c0-5a69-49d8-dbf0-54142d473e6f"
      },
      "source": [
        "# install shapefromprojections package\n",
        "!git clone https://github.com/jakeoung/shapefromprojections\n",
        "%cd shapefromprojections\n",
        "!pip install -e ."
      ],
      "execution_count": 1,
      "outputs": [
        {
          "output_type": "stream",
          "text": [
            "fatal: destination path 'shapefromprojections' already exists and is not an empty directory.\n",
            "/content/shapefromprojections\n",
            "Obtaining file:///content/shapefromprojections\n",
            "Requirement already satisfied: numpy in /usr/local/lib/python3.6/dist-packages (from ctdrm==0.9.0) (1.18.5)\n",
            "Requirement already satisfied: trimesh in /usr/local/lib/python3.6/dist-packages (from ctdrm==0.9.0) (3.8.4)\n",
            "Requirement already satisfied: torch in /usr/local/lib/python3.6/dist-packages (from ctdrm==0.9.0) (1.6.0+cu101)\n",
            "Requirement already satisfied: matplotlib in /usr/local/lib/python3.6/dist-packages (from ctdrm==0.9.0) (3.2.2)\n",
            "Requirement already satisfied: h5py in /usr/local/lib/python3.6/dist-packages (from ctdrm==0.9.0) (2.10.0)\n",
            "Requirement already satisfied: setuptools in /usr/local/lib/python3.6/dist-packages (from trimesh->ctdrm==0.9.0) (49.6.0)\n",
            "Requirement already satisfied: future in /usr/local/lib/python3.6/dist-packages (from torch->ctdrm==0.9.0) (0.16.0)\n",
            "Requirement already satisfied: pyparsing!=2.0.4,!=2.1.2,!=2.1.6,>=2.0.1 in /usr/local/lib/python3.6/dist-packages (from matplotlib->ctdrm==0.9.0) (2.4.7)\n",
            "Requirement already satisfied: cycler>=0.10 in /usr/local/lib/python3.6/dist-packages (from matplotlib->ctdrm==0.9.0) (0.10.0)\n",
            "Requirement already satisfied: kiwisolver>=1.0.1 in /usr/local/lib/python3.6/dist-packages (from matplotlib->ctdrm==0.9.0) (1.2.0)\n",
            "Requirement already satisfied: python-dateutil>=2.1 in /usr/local/lib/python3.6/dist-packages (from matplotlib->ctdrm==0.9.0) (2.8.1)\n",
            "Requirement already satisfied: six in /usr/local/lib/python3.6/dist-packages (from h5py->ctdrm==0.9.0) (1.15.0)\n",
            "Installing collected packages: ctdrm\n",
            "  Found existing installation: ctdrm 0.9.0\n",
            "    Can't uninstall 'ctdrm'. No files were found to uninstall.\n",
            "  Running setup.py develop for ctdrm\n",
            "Successfully installed ctdrm\n"
          ],
          "name": "stdout"
        }
      ]
    },
    {
      "cell_type": "code",
      "metadata": {
        "id": "Uxvivf1lWdkB",
        "colab_type": "code",
        "colab": {
          "base_uri": "https://localhost:8080/",
          "height": 139
        },
        "outputId": "cba02475-eba8-4689-e78f-cc78923c61f7"
      },
      "source": [
        "# install CUDA kernels\n",
        "%cd ctdr/cuda\n",
        "!python build.py build_ext --inplace\n",
        "%cd ../../run"
      ],
      "execution_count": 2,
      "outputs": [
        {
          "output_type": "stream",
          "text": [
            "/content/shapefromprojections/ctdr/cuda\n",
            "running build_ext\n",
            "/usr/local/lib/python3.6/dist-packages/torch/utils/cpp_extension.py:335: UserWarning: Attempted to use ninja as the BuildExtension backend but we could not find ninja.. Falling back to using the slow distutils backend.\n",
            "  warnings.warn(msg.format('we could not find ninja.'))\n",
            "copying build/lib.linux-x86_64-3.6/cuda_diff_fp.cpython-36m-x86_64-linux-gnu.so -> \n",
            "/content/shapefromprojections/run\n"
          ],
          "name": "stdout"
        }
      ]
    },
    {
      "cell_type": "code",
      "metadata": {
        "id": "HmwSTg_OXSml",
        "colab_type": "code",
        "colab": {
          "base_uri": "https://localhost:8080/",
          "height": 54
        },
        "outputId": "bd428fb8-598f-448e-f72e-399713c68338"
      },
      "source": [
        "import numpy as np\n",
        "import matplotlib.pyplot as plt\n",
        "import os\n",
        "import torch\n",
        "import h5py\n",
        "import time\n",
        "\n",
        "import ctdr\n",
        "from parse_args import args, update_args\n",
        "from ctdr.model.vanilla import Model\n",
        "from ctdr.dataset import init_mesh\n",
        "from ctdr.utils import util_mesh\n",
        "from ctdr import optimize\n",
        "import subprocess\n",
        "\n",
        "#torch.backends.cudnn.benchmark=True\n",
        "\n",
        "#------------------------------------------------\n",
        "# load data\n",
        "#------------------------------------------------\n",
        "from ctdr.dataset import dataset\n",
        "\n",
        "args.data='2starA'\n",
        "# args.niter=3000\n",
        "update_args(args)\n",
        "\n",
        "if args.data.find(\"tomop\") > 0:\n",
        "    args.nmaterials = int(args.data[-3:-1])+1\n",
        "\n",
        "ds = dataset.SinoDataset(args.ddata, args.nmaterials, args.eta)\n",
        "width_physical = ds.proj_geom['DetectorSpacingX']*ds.proj_geom['DetectorColCount']\n",
        "height_physical = ds.proj_geom['DetectorSpacingY']*ds.proj_geom['DetectorRowCount']\n",
        "physical_unit = min(width_physical, height_physical)\n",
        "\n",
        "finit_obj = args.ddata+'/init.obj'\n",
        "\n",
        "# if os.path.exists(finit_obj) == False:\n",
        "if True:\n",
        "    init_mesh.save_init_mesh(finit_obj, args.data, args.nmaterials, physical_unit, args.subdiv)\n",
        "else:\n",
        "    print(f\"Use existing init file {finit_obj}\")\n",
        "\n",
        "use_center_param = False\n",
        "mus = np.arange(ds.nmaterials) / (ds.nmaterials-1)\n",
        "\n",
        "print(finit_obj)\n",
        "# refine\n",
        "model = Model(finit_obj, ds.proj_geom, args.nmaterials,\n",
        "              mus, args.nmu0, wlap=args.wlap, wflat=args.wflat).cuda()"
      ],
      "execution_count": 7,
      "outputs": [
        {
          "output_type": "stream",
          "text": [
            "Namespace(b=0, cuda=-1, data='2starA', dataroot='../data/', ddata='../data/2starA/', dresult='../result/2starA/ours_-b_0_-eta_0_-lr_0.01_-niter_500_-niter0_0_-nmu0_1_-subdiv_4_-wedge_2.0_-wflat_0.01_-wlap_10.0_/', eta=0, lr=0.01, niter=500, niter0=0, nmaterials=2, nmu0=1, resroot='../result', subdiv=4, verbose=1, wedge=2.0, wflat=0.01, wlap=10.0)\n"
          ],
          "name": "stdout"
        }
      ]
    },
    {
      "cell_type": "code",
      "metadata": {
        "id": "pTtXNjJQbgQX",
        "colab_type": "code",
        "colab": {}
      },
      "source": [
        "def get_params(model, exclude_mus=False):\n",
        "    return model.parameters()\n",
        "\n",
        "def run_simple(model, ds, niter, args):\n",
        "    print(\"@ model.mus\", model.mus)\n",
        "    \n",
        "    params = get_params(model)\n",
        "    \n",
        "    opt = torch.optim.Adam(params, args.lr, betas=(0.9, 0.99))\n",
        "    \n",
        "    idx_angles_full = torch.LongTensor(np.arange(ds.nangles))\n",
        "    p_full = ds.p.cuda()\n",
        "    ds_loader = [ [ idx_angles_full, p_full ]  ]\n",
        "\n",
        "    mask_bg = ds.p < 1e-5\n",
        "    mask_bg = mask_bg.cuda()\n",
        "\n",
        "    print(f\"@ statistics of mesh: {model.vertices.shape[0]}, {model.faces.shape[0]}\\n\")\n",
        "\n",
        "    #mask_bg = 1\n",
        "    ledge = 0\n",
        "    llap = 0.\n",
        "    lflat = 0.\n",
        "\n",
        "    for epoch in range(niter):\n",
        "        # if epoch % 20 == 0 or epoch == niter-1:\n",
        "        for idx_angles, p_batch in ds_loader:\n",
        "            displace_prev = model.displace.data.clone()\n",
        "            if args.b > 0:\n",
        "                p_batch = p_batch.cuda()\n",
        "\n",
        "            opt.zero_grad()\n",
        "            \n",
        "            phat, mask_valid, edge_loss, lap_loss, flat_loss = model(idx_angles, args.wedge) # full angles\n",
        "            # phat[~mask_valid] = 0.0\n",
        "            # mask_valid = mask_valid + mask_bg\n",
        "            \n",
        "            # l2 loss\n",
        "            data_loss = (p_batch - phat)[mask_valid].pow(2).mean()\n",
        "\n",
        "            loss = data_loss + args.wedge * edge_loss + args.wlap * lap_loss + args.wflat * flat_loss\n",
        "            \n",
        "                        \n",
        "            loss.backward()\n",
        "            opt.step()\n",
        "            \n",
        "            loss_now = loss.item()\n",
        "            model.mus.data.clamp_(min=0.0)\n",
        "\n",
        "        if epoch % 20 == 0 or epoch == niter-1:            \n",
        "            if args.wedge > 0.:\n",
        "                ledge = edge_loss.item()\n",
        "                \n",
        "            if args.wlap > 0.:\n",
        "                llap = lap_loss.item()\n",
        "            \n",
        "            if args.wflat > 0.:\n",
        "                lflat = flat_loss.item()\n",
        "\n",
        "            print(f'~ {epoch:03d} l2_loss: {data_loss.item():.8f} edge: {ledge:.6f} lap: {llap:.6f} flat: {lflat:.6f} mus: {str(model.mus.cpu().detach().numpy())}')\n",
        "\n",
        "    return phat         "
      ],
      "execution_count": 50,
      "outputs": []
    },
    {
      "cell_type": "code",
      "metadata": {
        "id": "7BroOKroZKlO",
        "colab_type": "code",
        "colab": {
          "base_uri": "https://localhost:8080/",
          "height": 377
        },
        "outputId": "f0427b3e-d8f8-4b21-e0aa-bbb5f05b156e"
      },
      "source": [
        "args.wlap = 10.0\n",
        "args.wflat = 0.0\n",
        "args.wedge = 0.0\n",
        "phat = run_simple(model, ds, 200, args)"
      ],
      "execution_count": 51,
      "outputs": [
        {
          "output_type": "stream",
          "text": [
            "@ model.mus Parameter containing:\n",
            "tensor([0.0000, 1.0044], device='cuda:0', requires_grad=True)\n",
            "@ statistics of mesh: 2562, 5120\n",
            "\n",
            "~ 000 l2_loss: 0.00003120 edge: 0.000000 lap: 0.000024 flat: 0.000000 mus: [0.00249994 1.0069079 ]\n",
            "ndead nneg phat.min and max_v: 1 1 -4.09, 1.63\n",
            "~ 020 l2_loss: 0.00002678 edge: 0.000000 lap: 0.000021 flat: 0.000000 mus: [0.        1.0052758]\n",
            "~ 040 l2_loss: 0.00002536 edge: 0.000000 lap: 0.000020 flat: 0.000000 mus: [4.8184800e-05 1.0054477e+00]\n",
            "~ 060 l2_loss: 0.00002496 edge: 0.000000 lap: 0.000020 flat: 0.000000 mus: [2.2567627e-05 1.0054525e+00]\n",
            "ndead nneg phat.min and max_v: 1 1 -3.56, 1.63\n",
            "ndead nneg phat.min and max_v: 1 1 -3.70, 1.63\n",
            "~ 080 l2_loss: 0.00002438 edge: 0.000000 lap: 0.000020 flat: 0.000000 mus: [0.        1.0053829]\n",
            "ndead nneg phat.min and max_v: 1 1 -4.02, 1.63\n",
            "~ 100 l2_loss: 0.00002392 edge: 0.000000 lap: 0.000020 flat: 0.000000 mus: [3.0671276e-06 1.0054214e+00]\n",
            "~ 120 l2_loss: 0.00002360 edge: 0.000000 lap: 0.000019 flat: 0.000000 mus: [4.1250896e-05 1.0053504e+00]\n",
            "ndead nneg phat.min and max_v: 1 1 -3.63, 1.63\n",
            "~ 140 l2_loss: 0.00002331 edge: 0.000000 lap: 0.000019 flat: 0.000000 mus: [0.        1.0054415]\n",
            "~ 160 l2_loss: 0.00002268 edge: 0.000000 lap: 0.000019 flat: 0.000000 mus: [6.7613539e-05 1.0053471e+00]\n",
            "~ 180 l2_loss: 0.00002227 edge: 0.000000 lap: 0.000019 flat: 0.000000 mus: [0.       1.005398]\n",
            "~ 199 l2_loss: 0.00002243 edge: 0.000000 lap: 0.000018 flat: 0.000000 mus: [8.9051144e-05 1.0053124e+00]\n"
          ],
          "name": "stdout"
        }
      ]
    },
    {
      "cell_type": "code",
      "metadata": {
        "id": "YyNfV5kFe4rP",
        "colab_type": "code",
        "colab": {
          "base_uri": "https://localhost:8080/",
          "height": 521
        },
        "outputId": "02e8f39f-b410-4ced-978a-c19a623ad7d5"
      },
      "source": [
        "# Show the projection image for data and our estimation\n",
        "plt.imshow(ds.p[1,:,:]); plt.show()\n",
        "plt.imshow(phat.detach().cpu().numpy()[1,:,:]); plt.show()"
      ],
      "execution_count": 55,
      "outputs": [
        {
          "output_type": "display_data",
          "data": {
            "image/png": "[encoded data removed]",
            "text/plain": [
              "<Figure size 432x288 with 1 Axes>"
            ]
          },
          "metadata": {
            "tags": [],
            "needs_background": "light"
          }
        },
        {
          "output_type": "display_data",
          "data": {
            "image/png": "[encoded data removed]",
            "text/plain": [
              "<Figure size 432x288 with 1 Axes>"
            ]
          },
          "metadata": {
            "tags": [],
            "needs_background": "light"
          }
        }
      ]
    },
    {
      "cell_type": "code",
      "metadata": {
        "id": "MO3QGYBEe6PT",
        "colab_type": "code",
        "colab": {}
      },
      "source": [
        "# Optional: save the results\n",
        "# vv = model.vertices.cpu()+model.displace.detach().cpu()\n",
        "# ff = model.faces.cpu()\n",
        "\n",
        "# labels_v, labels_f = model.labels_v_np, model.labels.cpu().numpy()\n",
        "# # util_vis.save_vf_as_img_labels(args.dresult+f'{epoch:04d}_render.png', vv, ff, labels_v, labels_f)\n",
        "# util_vis.save_sino_as_img(args.dresult+f'{epoch:04d}_sino.png', phat.detach().cpu().numpy())\n",
        "# util_mesh.save_mesh(args.dresult+f'{epoch:04d}.obj', vv.numpy(), ff.numpy(), labels_v, labels_f)\n",
        "\n",
        "# util_mesh.save_mesh(args.dresult+'mesh.obj', vv.numpy(), ff.numpy(), labels_v, labels_f)\n",
        "# util_vis.save_sino_as_img(args.dresult+f'{epoch:04d}_data.png', ds.p.cuda())"
      ],
      "execution_count": 47,
      "outputs": []
    }
  ]
}